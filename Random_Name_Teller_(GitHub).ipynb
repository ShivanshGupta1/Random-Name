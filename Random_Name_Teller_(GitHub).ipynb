{
  "nbformat": 4,
  "nbformat_minor": 0,
  "metadata": {
    "colab": {
      "name": "Random Name Teller (GitHub).ipynb",
      "provenance": [],
      "authorship_tag": "ABX9TyNa03gfgeaNM3dLPSEQWeMo",
      "include_colab_link": true
    },
    "kernelspec": {
      "name": "python3",
      "display_name": "Python 3"
    }
  },
  "cells": [
    {
      "cell_type": "markdown",
      "metadata": {
        "id": "view-in-github",
        "colab_type": "text"
      },
      "source": [
        "<a href=\"https://colab.research.google.com/github/ShivanshGupta1/Random-Name/blob/main/Random_Name_Teller_(GitHub).ipynb\" target=\"_parent\"><img src=\"https://colab.research.google.com/assets/colab-badge.svg\" alt=\"Open In Colab\"/></a>"
      ]
    },
    {
      "cell_type": "code",
      "metadata": {
        "id": "-FDV7GHiwaAy"
      },
      "source": [
        "from math import *\n",
        "x = randint(1,10)\n",
        "y = input('Please input your name ')\n",
        "print(y*x)"
      ],
      "execution_count": null,
      "outputs": []
    }
  ]
}